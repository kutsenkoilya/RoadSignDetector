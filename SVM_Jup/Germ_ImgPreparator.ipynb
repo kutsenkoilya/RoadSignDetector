{
 "cells": [
  {
   "cell_type": "markdown",
   "metadata": {},
   "source": [
    "Этот модуль берёт \"сырой\" датасет и превращает его в набор обрезанных и аугментированных картинок размерами 20 на 20 пикселей.\n",
    "\n",
    "Работает с Датасетом немецких знаков\n",
    "\n",
    "ссылка на скачивание\n",
    "\n",
    "http://benchmark.ini.rub.de/?section=gtsrb&subsection=dataset\n",
    "\n",
    "Раздел Downloads\n",
    "\n",
    "Images and annotations: Download (263 MB) <----"
   ]
  },
  {
   "cell_type": "code",
   "execution_count": 10,
   "metadata": {
    "collapsed": true
   },
   "outputs": [],
   "source": [
    "import cv2\n",
    "import sklearn\n",
    "import numpy as np\n",
    "import os\n",
    "import fnmatch\n",
    "import csv\n",
    "import tqdm"
   ]
  },
  {
   "cell_type": "markdown",
   "metadata": {},
   "source": [
    "Выгрузка 3 классов из папок\n",
    "\n",
    "D:\\ComputerVision\\_robocar\\laneDetection\\_scraps\\06_SVM_RoadSignDetector\n",
    "\n",
    "*тут и далее стоит указать абсолютные пути на своём ПК"
   ]
  },
  {
   "cell_type": "code",
   "execution_count": 11,
   "metadata": {},
   "outputs": [
    {
     "name": "stdout",
     "output_type": "stream",
     "text": [
      "number of class-folders:43\n"
     ]
    }
   ],
   "source": [
    "folderpath = 'D:\\\\ComputerVision\\\\_robocar\\\\laneDetection\\\\_scraps\\\\06_SVM_RoadSignDetector\\\\Train_Images\\\\'\n",
    "folderlist = os.listdir(folderpath)\n",
    "print('number of class-folders:{}'.format(len(folderlist)))"
   ]
  },
  {
   "cell_type": "markdown",
   "metadata": {},
   "source": [
    "00000 - 00042\n",
    "\n",
    "1.00017 - КИРПИЧ!!!! ЕСТЬ\n",
    "\n",
    "2.00033 - поворот налево синий круглый!!!!!!!!!!! ЕСТЬ, почти\n",
    "\n",
    "3.00034 - поворот напаво синий и круглый!!! ЕСТь почти\n",
    "\n",
    "4.00035 - прямо сигий и круглый! есть почти\n",
    "\n",
    "5.00036 - прямо или направо - есть почти!\n",
    "\n",
    "6.00037 - прямо и налево! есть почти\n",
    "\n",
    "7.Всё остальное\n",
    "\n",
    "--------------------------------------------------\n",
    "\n",
    "CSV format: \n",
    "\n",
    "Filename; Width; Height; Roi.X1; Roi.Y1; Roi.X2; Roi.Y2; ClassId \n",
    "\n",
    "00000_00000.ppm; 29; 30; 5; 6; 24; 25; 0"
   ]
  },
  {
   "cell_type": "code",
   "execution_count": 12,
   "metadata": {
    "collapsed": true
   },
   "outputs": [],
   "source": [
    "#метод, указывающий правильные классы\n",
    "\n",
    "def newLabelsGen(oldLabel):\n",
    "    newLabel = {\n",
    "        17: 1,\n",
    "        33: 2,\n",
    "        34: 3,\n",
    "        35: 4,\n",
    "        36: 5,\n",
    "        37: 6\n",
    "    }\n",
    "    return newLabel.get(oldLabel, 0)"
   ]
  },
  {
   "cell_type": "markdown",
   "metadata": {},
   "source": [
    "Создаем все папочки"
   ]
  },
  {
   "cell_type": "code",
   "execution_count": 13,
   "metadata": {
    "collapsed": true
   },
   "outputs": [],
   "source": [
    "targetPath = 'D:\\\\ComputerVision\\\\_robocar\\\\laneDetection\\\\_scraps\\\\06_SVM_RoadSignDetector\\\\ImgTrainGerm\\\\'\n",
    "targetFolders = ['','0\\\\','1\\\\','2\\\\','3\\\\','4\\\\','5\\\\','6\\\\']\n",
    "\n",
    "for folderName in targetFolders:\n",
    "    if not os.path.exists(targetPath+folderName):\n",
    "        os.makedirs(targetPath+folderName)"
   ]
  },
  {
   "cell_type": "markdown",
   "metadata": {},
   "source": [
    "1.Читаем CSV\n",
    "\n",
    "2.Находим картинку\n",
    "\n",
    "3.Вырезаем и аугментируем\n",
    "\n",
    "4.Преобразуем класс\n",
    "\n",
    "5.Сохраняем в нужную папочку"
   ]
  },
  {
   "cell_type": "code",
   "execution_count": 16,
   "metadata": {},
   "outputs": [
    {
     "name": "stdout",
     "output_type": "stream",
     "text": [
      "Scanned: folder: 00000\n",
      "Scanned: folder: 00001\n",
      "Scanned: folder: 00002\n",
      "Scanned: folder: 00003\n",
      "Scanned: folder: 00004\n",
      "Scanned: folder: 00005\n",
      "Scanned: folder: 00006\n",
      "Scanned: folder: 00007\n",
      "Scanned: folder: 00008\n",
      "Scanned: folder: 00009\n",
      "Scanned: folder: 00010\n",
      "Scanned: folder: 00011\n",
      "Scanned: folder: 00012\n",
      "Scanned: folder: 00013\n",
      "Scanned: folder: 00014\n",
      "Scanned: folder: 00015\n",
      "Scanned: folder: 00016\n",
      "Scanned: folder: 00017\n",
      "Scanned: folder: 00018\n",
      "Scanned: folder: 00019\n",
      "Scanned: folder: 00020\n",
      "Scanned: folder: 00021\n",
      "Scanned: folder: 00022\n",
      "Scanned: folder: 00023\n",
      "Scanned: folder: 00024\n",
      "Scanned: folder: 00025\n",
      "Scanned: folder: 00026\n",
      "Scanned: folder: 00027\n",
      "Scanned: folder: 00028\n",
      "Scanned: folder: 00029\n",
      "Scanned: folder: 00030\n",
      "Scanned: folder: 00031\n",
      "Scanned: folder: 00032\n",
      "Scanned: folder: 00033\n",
      "Scanned: folder: 00034\n",
      "Scanned: folder: 00035\n",
      "Scanned: folder: 00036\n",
      "Scanned: folder: 00037\n",
      "Scanned: folder: 00038\n",
      "Scanned: folder: 00039\n",
      "Scanned: folder: 00040\n",
      "Scanned: folder: 00041\n",
      "Scanned: folder: 00042\n"
     ]
    }
   ],
   "source": [
    "for folder in folderlist:\n",
    "    c_path = folderpath+'\\\\'+folder\n",
    "    \n",
    "    gt_file = open(c_path + '\\\\' + 'GT-'+ folder + '.csv')\n",
    "    gt_reader = csv.reader(gt_file, delimiter=';')\n",
    "    \n",
    "    next(gt_reader) \n",
    "    \n",
    "    for rowID,row in enumerate(gt_reader):\n",
    "        name = row[0]\n",
    "        roiX1 = np.int(row[3])\n",
    "        roiY1 = np.int(row[4])\n",
    "        roiX2 = np.int(row[5])\n",
    "        roiY2 = np.int(row[6])\n",
    "        classID = np.int(row[7])\n",
    "        \n",
    "        image = cv2.imread(c_path + '\\\\' + name)\n",
    "        h,w,_ = image.shape\n",
    "        classID = newLabelsGen(classID)\n",
    "        \n",
    "        filePathHead = targetPath + str(classID) + '\\\\' + str(rowID)\n",
    "        filePathTail = '.png'\n",
    "        \n",
    "        #cutting image according to Roi.X1; Roi.Y1; Roi.X2; Roi.Y2;\n",
    "        cut = image[roiY1:roiY2,roiX1:roiX2, :]\n",
    "        cut = cv2.resize(cut,(20, 20), interpolation = cv2.INTER_CUBIC)\n",
    "        cv2.imwrite(filePathHead + filePathTail,cut)\n",
    "        \n",
    "        #cut augmentation\n",
    "        #+1\n",
    "        if (roiY2+1 < h and roiX2+1 < w):\n",
    "            cut = image[roiY1+1:roiY2+1,roiX1+1:roiX2+1, :]\n",
    "            cut = cv2.resize(cut,(20, 20), interpolation = cv2.INTER_CUBIC)\n",
    "            cv2.imwrite(filePathHead + '_1' + filePathTail,cut)\n",
    "            \n",
    "        #-1\n",
    "        if (roiY1-1 > 0 and roiX1-1 > 0):\n",
    "            cut = image[roiY1-1:roiY2-1,roiX1-1:roiX2-1, :]\n",
    "            cut = cv2.resize(cut,(20, 20), interpolation = cv2.INTER_CUBIC)\n",
    "            cv2.imwrite(filePathHead + '_2' + filePathTail,cut)\n",
    "        \n",
    "        #+2\n",
    "        if (roiY2+2 < h and roiX2+2 < w):\n",
    "            cut = image[roiY1+2:roiY2+2,roiX1+2:roiX2+2, :]\n",
    "            cut = cv2.resize(cut,(20, 20), interpolation = cv2.INTER_CUBIC)\n",
    "            cv2.imwrite(filePathHead + '_3' + filePathTail,cut)\n",
    "        \n",
    "        #-2\n",
    "        if (roiY1-2 > 0 and roiX1-2 > 0):\n",
    "            cut = image[roiY1-2:roiY2-2,roiX1-2:roiX2-2, :]\n",
    "            cut = cv2.resize(cut,(20, 20), interpolation = cv2.INTER_CUBIC)\n",
    "            cv2.imwrite(filePathHead + '_4' + filePathTail,cut)\n",
    "        \n",
    "        #rotation augmentation\n",
    "        #возможно в будущем...\n",
    "        \n",
    "    gt_file.close()\n",
    "    \n",
    "    print('Scanned: folder: {}'.format(folder))\n",
    "    "
   ]
  },
  {
   "cell_type": "code",
   "execution_count": null,
   "metadata": {
    "collapsed": true
   },
   "outputs": [],
   "source": []
  },
  {
   "cell_type": "code",
   "execution_count": null,
   "metadata": {
    "collapsed": true
   },
   "outputs": [],
   "source": []
  }
 ],
 "metadata": {
  "kernelspec": {
   "display_name": "Python 3",
   "language": "python",
   "name": "python3"
  },
  "language_info": {
   "codemirror_mode": {
    "name": "ipython",
    "version": 3
   },
   "file_extension": ".py",
   "mimetype": "text/x-python",
   "name": "python",
   "nbconvert_exporter": "python",
   "pygments_lexer": "ipython3",
   "version": "3.6.3"
  }
 },
 "nbformat": 4,
 "nbformat_minor": 2
}
