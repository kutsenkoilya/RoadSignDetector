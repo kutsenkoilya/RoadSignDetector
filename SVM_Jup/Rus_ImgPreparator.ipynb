{
 "cells": [
  {
   "cell_type": "markdown",
   "metadata": {},
   "source": [
    "Этот модуль берёт \"сырой\" датасет и превращает его в набор обрезанных и аугментированных картинок размерами 20 на 20 пикселей.\n",
    "\n",
    "Работает с Датасетом российских знаков\n",
    "\n",
    "ссылка на скачивание\n",
    "\n",
    "https://yadi.sk/d/TX5k2hkEm9wqZ\n",
    "\n",
    "Нужен файл на 17 Гб(!) и full-gt.csv"
   ]
  },
  {
   "cell_type": "code",
   "execution_count": 1,
   "metadata": {
    "collapsed": true
   },
   "outputs": [],
   "source": [
    "import cv2\n",
    "import sklearn\n",
    "import numpy as np\n",
    "import os\n",
    "import fnmatch\n",
    "import csv\n",
    "import tqdm"
   ]
  },
  {
   "cell_type": "markdown",
   "metadata": {},
   "source": [
    "выгрузка картинок из\n",
    "D:\\\\ComputerVision\\\\_robocar\\\\laneDetection\\\\_scraps\\\\06_SVM_RoadSignDetector\\\\full-frames\\\\rtsd-frames\n",
    "full-gt.csv"
   ]
  },
  {
   "cell_type": "code",
   "execution_count": 2,
   "metadata": {},
   "outputs": [
    {
     "name": "stdout",
     "output_type": "stream",
     "text": [
      "number of rus images:179138\n"
     ]
    }
   ],
   "source": [
    "rus_filepath = 'D:\\\\ComputerVision\\\\_robocar\\\\laneDetection\\\\_scraps\\\\06_SVM_RoadSignDetector\\\\full-frames\\\\rtsd-frames'\n",
    "rus_csvpath = 'D:\\\\ComputerVision\\\\_robocar\\\\laneDetection\\\\_scraps\\\\06_SVM_RoadSignDetector\\\\full-frames\\\\full-gt.csv'\n",
    "\n",
    "rus_filelist = os.listdir(rus_filepath)\n",
    "print('number of rus images:{}'.format(len(rus_filelist)))"
   ]
  },
  {
   "cell_type": "markdown",
   "metadata": {},
   "source": [
    "Метод, выставляющий правильное значение класса"
   ]
  },
  {
   "cell_type": "code",
   "execution_count": 4,
   "metadata": {
    "collapsed": true
   },
   "outputs": [],
   "source": [
    "def newLabelsGen_rus(signClass):\n",
    "    label = {\n",
    "        '4_1_1': 4,\n",
    "        '4_1_2': 3,\n",
    "        '4_1_3': 2,\n",
    "        '4_1_4': 5,\n",
    "        '4_1_5': 6,\n",
    "        '3_1': 1\n",
    "    }\n",
    "    return label.get(signClass, 0)\n"
   ]
  },
  {
   "cell_type": "markdown",
   "metadata": {},
   "source": [
    "Создание нужных папок"
   ]
  },
  {
   "cell_type": "code",
   "execution_count": 5,
   "metadata": {
    "collapsed": true
   },
   "outputs": [],
   "source": [
    "targetPath = 'D:\\\\ComputerVision\\\\_robocar\\\\laneDetection\\\\_scraps\\\\06_SVM_RoadSignDetector\\\\ImgTrainRus\\\\'\n",
    "targetFolders = ['','0\\\\','1\\\\','2\\\\','3\\\\','4\\\\','5\\\\','6\\\\']\n",
    "\n",
    "for folderName in targetFolders:\n",
    "    if not os.path.exists(targetPath+folderName):\n",
    "        os.makedirs(targetPath+folderName)"
   ]
  },
  {
   "cell_type": "markdown",
   "metadata": {},
   "source": [
    "1.Читаем CSV\n",
    "\n",
    "2.Находим картинку\n",
    "\n",
    "3.Вырезаем и аугментируем\n",
    "\n",
    "4.Преобразуем класс\n",
    "\n",
    "5.Сохраняем в нужную папочку"
   ]
  },
  {
   "cell_type": "code",
   "execution_count": 7,
   "metadata": {
    "collapsed": true
   },
   "outputs": [],
   "source": [
    "gt_file = open(rus_csvpath)\n",
    "gt_reader = csv.reader(gt_file, delimiter=';')\n",
    "    \n",
    "next(gt_reader) \n",
    "    \n",
    "for rowID,row in enumerate(gt_reader):\n",
    "    name = row[0]\n",
    "    roiX1 = np.int(row[1])\n",
    "    roiY1 = np.int(row[2])\n",
    "    roiW = np.int(row[3])\n",
    "    roiH = np.int(row[4])\n",
    "    sign_class = row[5]\n",
    "    signID = np.int(row[6])\n",
    "    \n",
    "    image = cv2.imread(rus_filepath + '\\\\' + name)\n",
    "    h,w,_ = image.shape\n",
    "    classID = newLabelsGen_rus(sign_class)\n",
    "    \n",
    "    filePathHead = targetPath + str(classID) + '\\\\' + str(rowID)\n",
    "    filePathTail = '.png'\n",
    "    \n",
    "    image = cv2.imread(rus_filepath + '\\\\' + name)\n",
    "    h,w,_ = image.shape\n",
    "        \n",
    "    #cutting image according to Roi.X1; Roi.Y1; W; H;\n",
    "    cut = image[roiY1:roiY1+roiH,roiX1:roiX1+roiW, :]\n",
    "    cut = cv2.resize(cut,(20, 20), interpolation = cv2.INTER_CUBIC)\n",
    "    cv2.imwrite(filePathHead + filePathTail,cut)\n",
    "    \n",
    "    #cut augmentation\n",
    "    #+1\n",
    "    if (roiY1+roiH+1 < h and roiX1+roiW+1 < w):\n",
    "        cut = image[roiY1+1:roiY1+roiH+1,roiX1+1:roiX1+roiW+1, :]\n",
    "        cut = cv2.resize(cut,(20, 20), interpolation = cv2.INTER_CUBIC)\n",
    "        cv2.imwrite(filePathHead + '_1' + filePathTail,cut)\n",
    "    #-1\n",
    "    if (roiY1-1 > 0 and roiX1-1 > 0):\n",
    "        cut = image[roiY1-1:roiY1+roiH-1,roiX1-1:roiX1+roiW-1, :]\n",
    "        cut = cv2.resize(cut,(20, 20), interpolation = cv2.INTER_CUBIC)\n",
    "        cv2.imwrite(filePathHead + '_2' + filePathTail,cut)\n",
    "\n",
    "    #+2\n",
    "    if (roiY1+roiH+2 < h and roiX1+roiW+2 < w):\n",
    "        cut = image[roiY1+2:roiY1+roiH+2,roiX1+2:roiX1+roiW+2, :]\n",
    "        cut = cv2.resize(cut,(20, 20), interpolation = cv2.INTER_CUBIC)\n",
    "        cv2.imwrite(filePathHead + '_3' + filePathTail,cut)\n",
    "\n",
    "    #-2\n",
    "    if (roiY1-2 > 0 and roiX1-2 > 0):\n",
    "        cut = image[roiY1-2:roiY1+roiH-2,roiX1-2:roiX1+roiW-2, :]\n",
    "        cut = cv2.resize(cut,(20, 20), interpolation = cv2.INTER_CUBIC)\n",
    "        cv2.imwrite(filePathHead + '_4' + filePathTail,cut)\n",
    "        \n",
    "    #rotation augmentation\n",
    "    #возможно в будущем...\n",
    "        \n",
    "gt_file.close()"
   ]
  },
  {
   "cell_type": "code",
   "execution_count": 8,
   "metadata": {},
   "outputs": [
    {
     "name": "stdout",
     "output_type": "stream",
     "text": [
      "Done\n"
     ]
    }
   ],
   "source": [
    "print('Done')"
   ]
  },
  {
   "cell_type": "code",
   "execution_count": null,
   "metadata": {
    "collapsed": true
   },
   "outputs": [],
   "source": []
  }
 ],
 "metadata": {
  "kernelspec": {
   "display_name": "Python 3",
   "language": "python",
   "name": "python3"
  },
  "language_info": {
   "codemirror_mode": {
    "name": "ipython",
    "version": 3
   },
   "file_extension": ".py",
   "mimetype": "text/x-python",
   "name": "python",
   "nbconvert_exporter": "python",
   "pygments_lexer": "ipython3",
   "version": "3.6.3"
  }
 },
 "nbformat": 4,
 "nbformat_minor": 2
}
